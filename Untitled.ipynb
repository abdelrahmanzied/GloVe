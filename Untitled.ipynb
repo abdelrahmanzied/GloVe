{
 "cells": [
  {
   "cell_type": "code",
   "execution_count": 1,
   "id": "761c0359",
   "metadata": {},
   "outputs": [],
   "source": [
    "import numpy as np\n",
    "from future.utils import iteritems\n",
    "from sklearn.metrics.pairwise import cosine_distances"
   ]
  },
  {
   "cell_type": "code",
   "execution_count": 10,
   "id": "11703f4e",
   "metadata": {},
   "outputs": [
    {
     "name": "stdout",
     "output_type": "stream",
     "text": [
      "Loading word vectors...\n",
      "Found word vectors 2195875\n"
     ]
    }
   ],
   "source": [
    "print('Loading word vectors...')\n",
    "word2vec = {}\n",
    "embedding = []\n",
    "idx2word = []\n",
    "\n",
    "with open(r'./glove.840B.300d.txt', encoding='utf-8') as f:\n",
    "  # is just a space-separated text file in the format:\n",
    "  # word vec[0] vec[1] vec[2] ...\n",
    "    for line in f:\n",
    "        values = line.split()\n",
    "        word = values[0]\n",
    "        for i in range(1, 5):\n",
    "            try:\n",
    "                vec = np.asarray(values[i:], dtype='float32').reshape(-1, 300)\n",
    "                word2vec[word] = vec\n",
    "                embedding.append(vec)\n",
    "                idx2word.append(word)\n",
    "                break\n",
    "            except:\n",
    "                continue\n",
    "print(f\"Found word vectors {len(word2vec)}\")"
   ]
  },
  {
   "cell_type": "code",
   "execution_count": 12,
   "id": "506fb47b",
   "metadata": {},
   "outputs": [
    {
     "data": {
      "text/plain": [
       "(2195875, 2196007, 2196007)"
      ]
     },
     "execution_count": 12,
     "metadata": {},
     "output_type": "execute_result"
    }
   ],
   "source": [
    "len(word2vec), len(embedding), len(idx2word)"
   ]
  },
  {
   "cell_type": "code",
   "execution_count": 15,
   "id": "6e2b6689",
   "metadata": {},
   "outputs": [
    {
     "data": {
      "text/plain": [
       "(2196007, 300)"
      ]
     },
     "execution_count": 15,
     "metadata": {},
     "output_type": "execute_result"
    }
   ],
   "source": [
    "em_reshaped = np.array(embedding).reshape(-1, 300)\n",
    "em_reshaped.shape"
   ]
  },
  {
   "cell_type": "code",
   "execution_count": 5,
   "id": "ec9a20b2",
   "metadata": {},
   "outputs": [
    {
     "data": {
      "text/plain": [
       "(2196017, 300)"
      ]
     },
     "execution_count": 5,
     "metadata": {},
     "output_type": "execute_result"
    }
   ],
   "source": [
    "V, D = embedding.shape\n",
    "V, D"
   ]
  },
  {
   "cell_type": "code",
   "execution_count": null,
   "id": "fd40c264",
   "metadata": {},
   "outputs": [],
   "source": [
    "def dist(a, b):\n",
    "    return 1 - a.dot(b) / (np.linalg.norm(a) * np.linalg.norm(b))"
   ]
  },
  {
   "cell_type": "code",
   "execution_count": null,
   "id": "d142cf72",
   "metadata": {},
   "outputs": [],
   "source": [
    "def find_analogies(w1, w2, w3, embedding=embedding, V=embedding.shape[0], D=embedding.shape[1]):\n",
    "    for w in (w1, w2, w3):\n",
    "        if w not in word2vec:\n",
    "            print(f\"{w} isn't in the dictionary\")\n",
    "            return\n",
    "\n",
    "    king = word2vec[w1]\n",
    "    man = word2vec[w2]\n",
    "    woman = word2vec[w3]\n",
    "    v0 = king - man + woman\n",
    "    distances = cosine_distances(v0, embedding).reshape(V)\n",
    "    idxs = distances.argsort()[:4]\n",
    "    for idx in idxs:\n",
    "        word = idx2word[idx]\n",
    "        if word not in (w1, w2, w3): \n",
    "            best_word = word\n",
    "            break\n",
    "    return best_word\n",
    "\n",
    "#     print(w1, \"-\", w2, \"+\", w3, \"=\", best_word)"
   ]
  },
  {
   "cell_type": "code",
   "execution_count": null,
   "id": "ddf925c4",
   "metadata": {},
   "outputs": [],
   "source": [
    "find_analogies('Programing', 'python', 'England')"
   ]
  },
  {
   "cell_type": "code",
   "execution_count": null,
   "id": "2a2b3585",
   "metadata": {},
   "outputs": [],
   "source": [
    "def nearest_neighbors(w, n=5, V=embedding.shape[0], D=embedding.shape[1]):\n",
    "    if w not in word2vec:\n",
    "        print(\"%s not in dictionary:\" % w)\n",
    "        return\n",
    "\n",
    "    v = word2vec[w]\n",
    "    distances = pairwise_distances(v.reshape(1, D),\n",
    "                                   embedding, metric='cosine').reshape(V)\n",
    "    idxs = distances.argsort()[1:n+1]\n",
    "    print(\"neighbors of: %s\" % w)\n",
    "    for idx in idxs:\n",
    "        print(\"\\t%s\" % idx2word[idx])"
   ]
  },
  {
   "cell_type": "code",
   "execution_count": null,
   "id": "644315f7",
   "metadata": {},
   "outputs": [],
   "source": [
    "def find_analogies2(w1, w2, w3):\n",
    "    for w in (w1, w2, w3):\n",
    "        if w not in word2vec:\n",
    "            print(\"%s not in dictionary\" % w)\n",
    "            return\n",
    "\n",
    "    king = word2vec[w1]\n",
    "    man = word2vec[w2]\n",
    "    woman = word2vec[w3]\n",
    "    v0 = king - man + woman\n",
    "\n",
    "    distances = pairwise_distances(v0.reshape(1, D),\n",
    "                                   embedding, metric='cosine').reshape(V)\n",
    "    idxs = distances.argsort()[:4]\n",
    "    for idx in idxs:\n",
    "        word = idx2word[idx]\n",
    "        if word not in (w1, w2, w3): \n",
    "            best_word = word\n",
    "            break\n",
    "    return best_word\n",
    "    print(w1, \"-\", w2, \"=\", best_word, \"-\", w3)"
   ]
  },
  {
   "cell_type": "code",
   "execution_count": null,
   "id": "f2db8dcb",
   "metadata": {},
   "outputs": [],
   "source": [
    "find_analogies2('einstein', 'scientist', 'painter')"
   ]
  },
  {
   "cell_type": "code",
   "execution_count": null,
   "id": "2c139bd7",
   "metadata": {},
   "outputs": [],
   "source": [
    "test = [('king', 'man', 'woman')\n",
    ",('france', 'paris', 'london')\n",
    ",('france', 'paris', 'rome')\n",
    ",('paris', 'france', 'italy')\n",
    ",('france', 'french', 'english')\n",
    ",('japan', 'japanese', 'chinese')\n",
    ",('japan', 'japanese', 'italian')\n",
    ",('japan', 'japanese', 'australian')\n",
    ",('december', 'november', 'june')\n",
    ",('miami', 'florida', 'texas')\n",
    ",('einstein', 'scientist', 'painter')\n",
    ",('china', 'rice', 'bread')\n",
    ",('man', 'woman', 'she')\n",
    ",('man', 'woman', 'aunt')\n",
    ",('man', 'woman', 'sister')\n",
    ",('man', 'woman', 'wife')\n",
    ",('man', 'woman', 'actress')\n",
    ",('man', 'woman', 'mother')\n",
    ",('heir', 'heiress', 'princess')\n",
    ",('nephew', 'niece', 'aunt')\n",
    ",('france', 'paris', 'tokyo')\n",
    ",('france', 'paris', 'beijing')\n",
    ",('february', 'january', 'november')\n",
    ",('france', 'paris', 'rome')\n",
    ",('paris', 'france', 'italy')\n",
    ",('cairo','egypt','syria')]"
   ]
  },
  {
   "cell_type": "code",
   "execution_count": null,
   "id": "0c87731f",
   "metadata": {
    "scrolled": true
   },
   "outputs": [],
   "source": [
    "for i in test:\n",
    "    w1, w2, w3 = i\n",
    "    res1 = find_analogies(w1, w2, w3)\n",
    "    res2 = find_analogies2(w1, w2, w3)\n",
    "    print(res1, res2, res1==res2)"
   ]
  },
  {
   "cell_type": "code",
   "execution_count": null,
   "id": "752ea99e",
   "metadata": {},
   "outputs": [],
   "source": [
    "w1, w2, w3 = test[0]\n",
    "w1, w2, w3\n"
   ]
  },
  {
   "cell_type": "code",
   "execution_count": null,
   "id": "daf2179b",
   "metadata": {},
   "outputs": [],
   "source": [
    "# test[1]"
   ]
  },
  {
   "cell_type": "code",
   "execution_count": null,
   "id": "3f5154c3",
   "metadata": {},
   "outputs": [],
   "source": [
    "keys = list(word2vec.keys())\n",
    "keys[0], len(keys)"
   ]
  },
  {
   "cell_type": "code",
   "execution_count": null,
   "id": "f243cde0",
   "metadata": {},
   "outputs": [],
   "source": [
    "idx2word[0], len(idx2word)"
   ]
  },
  {
   "cell_type": "code",
   "execution_count": null,
   "id": "707ec6b0",
   "metadata": {},
   "outputs": [],
   "source": [
    "emm = np.asarray(list(word2vec.values())).reshape(-1,D)\n",
    "type(emm), emm.shape"
   ]
  },
  {
   "cell_type": "code",
   "execution_count": null,
   "id": "2190dd0e",
   "metadata": {},
   "outputs": [],
   "source": [
    "emm_ar = np.asarray(emm)\n",
    "emm_ar.shape"
   ]
  },
  {
   "cell_type": "code",
   "execution_count": null,
   "id": "e9c070c3",
   "metadata": {},
   "outputs": [],
   "source": [
    "len(word2vec)"
   ]
  },
  {
   "cell_type": "code",
   "execution_count": null,
   "id": "73067831",
   "metadata": {},
   "outputs": [],
   "source": []
  }
 ],
 "metadata": {
  "kernelspec": {
   "display_name": "Python 3",
   "language": "python",
   "name": "python3"
  },
  "language_info": {
   "codemirror_mode": {
    "name": "ipython",
    "version": 3
   },
   "file_extension": ".py",
   "mimetype": "text/x-python",
   "name": "python",
   "nbconvert_exporter": "python",
   "pygments_lexer": "ipython3",
   "version": "3.8.11"
  }
 },
 "nbformat": 4,
 "nbformat_minor": 5
}
